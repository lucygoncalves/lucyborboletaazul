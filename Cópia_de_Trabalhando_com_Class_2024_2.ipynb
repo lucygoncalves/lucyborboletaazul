{
  "nbformat": 4,
  "nbformat_minor": 0,
  "metadata": {
    "colab": {
      "provenance": [],
      "toc_visible": true,
      "include_colab_link": true
    },
    "kernelspec": {
      "name": "python3",
      "display_name": "Python 3"
    },
    "language_info": {
      "name": "python"
    }
  },
  "cells": [
    {
      "cell_type": "markdown",
      "metadata": {
        "id": "view-in-github",
        "colab_type": "text"
      },
      "source": [
        "<a href=\"https://colab.research.google.com/github/lucygoncalves/lucyborboletaazul/blob/main/C%C3%B3pia_de_Trabalhando_com_Class_2024_2.ipynb\" target=\"_parent\"><img src=\"https://colab.research.google.com/assets/colab-badge.svg\" alt=\"Open In Colab\"/></a>"
      ]
    },
    {
      "cell_type": "markdown",
      "source": [
        "# Trabalhando com Class no Python\n",
        "\n",
        "A criação de classes em Python é fundamental para o desenvolvimento de programas bem estruturados e eficientes. Classes permitem a definição de estruturas de dados complexas e a implementação de comportamentos específicos, facilitando a organização e a manutenção do código. Através da orientação a objetos, é possível encapsular dados e funções relacionadas em uma única entidade, promovendo a reutilização e a modularização do código. Isso não apenas melhora a legibilidade e a robustez do software, mas também simplifica a colaboração em projetos, uma vez que diferentes partes do sistema podem ser desenvolvidas e testadas de forma independente. Com o uso de classes, é possível criar sistemas mais escaláveis e flexíveis, adaptando-se facilmente a novos requisitos e mudanças.\n",
        "\n",
        "Também é possível ir para um tutorial on-line do Python, acesse pelo link [Class no Python](https://docs.python.org/pt-br/3/tutorial/classes.html)\n"
      ],
      "metadata": {
        "id": "SV4yTj9U0Rza"
      }
    },
    {
      "cell_type": "code",
      "source": [
        "class Aluno:\n",
        "  def __init__(self, nome, nota1, nota2):\n",
        "    self.nome = nome\n",
        "    self.nota1 = nota1\n",
        "    self.nota2 = nota2\n",
        "    self.media = 0.0\n",
        "  def calcular_media(self):\n",
        "    self.media=(self.nota1+self.nota2)/2\n",
        "    return self.media\n",
        "  def mostra_dados(self):\n",
        "    print('Nome do Aluno..: ',self.nome)\n",
        "    print('Primeira Nota..: ',self.nota1)\n",
        "    print('Segunda Nota...: ',self.nota2)\n",
        "    print('Media..........: ',self.media)\n",
        "  def resultado(self):\n",
        "    if self.media>=7:\n",
        "      print('Aluno aprovado!!!')\n",
        "    else:\n",
        "      print('Aluno REPROVADO!!!')"
      ],
      "metadata": {
        "id": "5JLxoMxEJqLA"
      },
      "execution_count": null,
      "outputs": []
    },
    {
      "cell_type": "code",
      "source": [
        "aluno1 = Aluno('Pedro',5,6)\n",
        "aluno2 = Aluno('Carlos',4,8)\n",
        "\n",
        "aluno2.calcular_media()\n",
        "aluno2.mostra_dados()\n",
        "aluno2.resultado()"
      ],
      "metadata": {
        "id": "Hi7ghVc2KQ-X"
      },
      "execution_count": null,
      "outputs": []
    },
    {
      "cell_type": "code",
      "execution_count": null,
      "metadata": {
        "id": "zhF03Pzmb2h3"
      },
      "outputs": [],
      "source": [
        "class Carro:\n",
        "  def acelerar(self):\n",
        "    print(\"O carro está acelerando!\")\n",
        "  def frear(self):\n",
        "    print(\"O carro está freando!\")"
      ]
    },
    {
      "cell_type": "code",
      "source": [
        "meu_carro = Carro()\n",
        "meu_carro.acelerar()\n",
        "meu_carro.frear()"
      ],
      "metadata": {
        "id": "DMtvnaCCdJty",
        "colab": {
          "base_uri": "https://localhost:8080/"
        },
        "outputId": "fcba2d38-6dfb-4790-e91a-ee1b54e2529e"
      },
      "execution_count": null,
      "outputs": [
        {
          "output_type": "stream",
          "name": "stdout",
          "text": [
            "O carro está acelerando!\n",
            "O carro está freando!\n"
          ]
        }
      ]
    },
    {
      "cell_type": "code",
      "source": [
        "class Carro:\n",
        "    rodas = 4  # Constante\n",
        "    def visualizar_rodas(self):\n",
        "        print('Este carro tem ',Carro.rodas,' rodas.')\n",
        "\n",
        "# Criando uma instância da classe Car\n",
        "c = Carro()\n",
        "c.visualizar_rodas()  # Saída: Este carro tem 4 rodas."
      ],
      "metadata": {
        "colab": {
          "base_uri": "https://localhost:8080/"
        },
        "id": "qMNQ3QKa6T_4",
        "outputId": "70a52117-b1de-4da0-eec2-c3542d4ef4fa"
      },
      "execution_count": null,
      "outputs": [
        {
          "output_type": "stream",
          "name": "stdout",
          "text": [
            "Este carro tem  4  rodas.\n"
          ]
        }
      ]
    },
    {
      "cell_type": "code",
      "source": [
        "class Personagem:\n",
        "    def __init__(self, nome, idade):\n",
        "        self.nome = nome\n",
        "        self.idade = idade\n",
        "\n",
        "    def cumprimento(self):\n",
        "        print('Olá, meu nome é ',self.nome,' e eu tenho ',self.idade,' anos.')"
      ],
      "metadata": {
        "id": "Q5n29-y16zjY"
      },
      "execution_count": null,
      "outputs": []
    },
    {
      "cell_type": "code",
      "source": [
        "# Criando instâncias da classe Person\n",
        "p1 = Personagem('Alice', 30)\n",
        "p2 = Personagem('Bob', 25)\n",
        "\n",
        "p1.cumprimento()  # Saída: Olá, meu nome é Alice e eu tenho 30 anos.\n",
        "p2.cumprimento()  # Saída: Olá, meu nome é Bob e eu tenho 25 anos."
      ],
      "metadata": {
        "colab": {
          "base_uri": "https://localhost:8080/"
        },
        "id": "pJRGCuomWv6E",
        "outputId": "cc7b61fe-cb2f-4025-f2dd-313bb52c17c3"
      },
      "execution_count": null,
      "outputs": [
        {
          "output_type": "stream",
          "name": "stdout",
          "text": [
            "Olá, meu nome é  Alice  e eu tenho  30  anos.\n",
            "Olá, meu nome é  Bob  e eu tenho  25  anos.\n"
          ]
        }
      ]
    },
    {
      "cell_type": "code",
      "source": [
        "class Circulo:\n",
        "    PI = 3.14159  # Constante\n",
        "\n",
        "    def __init__(self, radius):\n",
        "        self.radius = radius\n",
        "\n",
        "    def area(self):\n",
        "        return self.PI * (self.radius ** 2)"
      ],
      "metadata": {
        "id": "V56201hz7zzh"
      },
      "execution_count": null,
      "outputs": []
    },
    {
      "cell_type": "code",
      "source": [
        "# Criando uma instância da classe Circle\n",
        "Circulo = Circulo(5)\n",
        "print('A área do círculo é: ',Circulo.area())  # Saída: A área do círculo é: 78.53975"
      ],
      "metadata": {
        "colab": {
          "base_uri": "https://localhost:8080/"
        },
        "id": "jUnQYFM0XkwU",
        "outputId": "43877b70-14ec-4dfb-bb19-431ccb763901"
      },
      "execution_count": null,
      "outputs": [
        {
          "output_type": "stream",
          "name": "stdout",
          "text": [
            "A área do círculo é:  78.53975\n"
          ]
        }
      ]
    },
    {
      "cell_type": "code",
      "source": [
        "class Calculadora:\n",
        "  def soma(self, a, b):\n",
        "    return a + b\n",
        "  def subtracao(self, a, b):\n",
        "    return a - b\n",
        "  def multiplicacao(self, a, b):\n",
        "    return a * b\n",
        "  def divisao(self, a, b):\n",
        "    return a / b\n",
        "  def soma1(self):\n",
        "    a = int(input('Informe um valor para a.: '))\n",
        "    b = int(input('Informe um valor para b.: '))\n",
        "    return a+b"
      ],
      "metadata": {
        "id": "3eW1MdzSgAlq"
      },
      "execution_count": null,
      "outputs": []
    },
    {
      "cell_type": "code",
      "source": [
        "calc = Calculadora()\n",
        "a = int(input('Informe um valor para a.: '))\n",
        "b = int(input('Informe um valor para b.: '))\n",
        "calc.soma(a,b)"
      ],
      "metadata": {
        "id": "Wq-8RgXzkqN5",
        "colab": {
          "base_uri": "https://localhost:8080/"
        },
        "outputId": "1108f764-a831-4ad1-d2a7-cec202a30cc1"
      },
      "execution_count": null,
      "outputs": [
        {
          "name": "stdout",
          "output_type": "stream",
          "text": [
            "Informe um valor para a.: 8\n",
            "Informe um valor para b.: 9\n"
          ]
        },
        {
          "output_type": "execute_result",
          "data": {
            "text/plain": [
              "17"
            ]
          },
          "metadata": {},
          "execution_count": 21
        }
      ]
    },
    {
      "cell_type": "code",
      "source": [
        "calc = Calculadora()\n",
        "print(calc.soma(10, 5))\n",
        "print(calc.subtracao(15, 7))\n",
        "print(calc.multiplicacao(4, 3))\n",
        "print(calc.divisao(20, 4))\n",
        "calc.soma1()"
      ],
      "metadata": {
        "id": "51-Vak_Vjjrp"
      },
      "execution_count": null,
      "outputs": []
    },
    {
      "cell_type": "code",
      "source": [
        "calc = Calculadora()\n",
        "for i in range(1,200,5):\n",
        "  print(i,' -> ', calc.soma(i,2))"
      ],
      "metadata": {
        "id": "3jPjTo0a1zZI",
        "colab": {
          "base_uri": "https://localhost:8080/"
        },
        "outputId": "ddff24d7-2305-4ecc-9f59-3862db7f0f24"
      },
      "execution_count": null,
      "outputs": [
        {
          "output_type": "stream",
          "name": "stdout",
          "text": [
            "1  ->  3\n",
            "6  ->  8\n",
            "11  ->  13\n",
            "16  ->  18\n",
            "21  ->  23\n",
            "26  ->  28\n",
            "31  ->  33\n",
            "36  ->  38\n",
            "41  ->  43\n",
            "46  ->  48\n",
            "51  ->  53\n",
            "56  ->  58\n",
            "61  ->  63\n",
            "66  ->  68\n",
            "71  ->  73\n",
            "76  ->  78\n",
            "81  ->  83\n",
            "86  ->  88\n",
            "91  ->  93\n",
            "96  ->  98\n",
            "101  ->  103\n",
            "106  ->  108\n",
            "111  ->  113\n",
            "116  ->  118\n",
            "121  ->  123\n",
            "126  ->  128\n",
            "131  ->  133\n",
            "136  ->  138\n",
            "141  ->  143\n",
            "146  ->  148\n",
            "151  ->  153\n",
            "156  ->  158\n",
            "161  ->  163\n",
            "166  ->  168\n",
            "171  ->  173\n",
            "176  ->  178\n",
            "181  ->  183\n",
            "186  ->  188\n",
            "191  ->  193\n",
            "196  ->  198\n"
          ]
        }
      ]
    },
    {
      "cell_type": "code",
      "source": [
        "class Retangulo:\n",
        "  def calcular_area(self, largura, altura):\n",
        "    return largura * altura\n",
        "  def calcular_perimetro(self, largura, altura):\n",
        "    return 2 * (largura + altura)"
      ],
      "metadata": {
        "id": "F0-wiC2OnLLY"
      },
      "execution_count": null,
      "outputs": []
    },
    {
      "cell_type": "code",
      "source": [
        "retangulo = Retangulo()\n",
        "print(retangulo.calcular_area(5, 3))\n",
        "print(retangulo.calcular_perimetro(5, 3))"
      ],
      "metadata": {
        "id": "ZLlOweGenPfT",
        "colab": {
          "base_uri": "https://localhost:8080/"
        },
        "outputId": "4941401f-a616-485e-8a27-86b94fbbf5ae"
      },
      "execution_count": null,
      "outputs": [
        {
          "output_type": "stream",
          "name": "stdout",
          "text": [
            "15\n",
            "16\n"
          ]
        }
      ]
    },
    {
      "cell_type": "code",
      "source": [
        "class ContaBancaria:\n",
        "  def __init__(self):\n",
        "    self.saldo=0\n",
        "\n",
        "  def depositar(self, valor):\n",
        "    self.saldo+=valor\n",
        "\n",
        "  def sacar(self, valor):\n",
        "    if valor>self.saldo:\n",
        "      print('Saldo insuficiente!!!')\n",
        "      print('Saldo em conta.......:',self.saldo)\n",
        "    else:\n",
        "      self.saldo-=valor\n",
        "\n",
        "  def saldototal(self):\n",
        "    print(self.saldo)"
      ],
      "metadata": {
        "id": "wDJfJFS-ax3m"
      },
      "execution_count": null,
      "outputs": []
    },
    {
      "cell_type": "code",
      "source": [
        "c1 = ContaBancaria()\n",
        "c1.depositar(200)\n",
        "c1.depositar(200)\n",
        "c1.sacar(50)\n",
        "c1.saldototal()\n",
        "c1.depositar(200)\n",
        "c1.depositar(100)\n",
        "c1.saldototal()"
      ],
      "metadata": {
        "colab": {
          "base_uri": "https://localhost:8080/"
        },
        "id": "cFcl1mklbR6N",
        "outputId": "fdfa2632-31a6-4018-b8fd-24e6a8cca518"
      },
      "execution_count": null,
      "outputs": [
        {
          "output_type": "stream",
          "name": "stdout",
          "text": [
            "350\n",
            "650\n"
          ]
        }
      ]
    },
    {
      "cell_type": "code",
      "source": [
        "c2 = ContaBancaria()\n",
        "c2.depositar(200)\n",
        "c2.sacar(250)"
      ],
      "metadata": {
        "colab": {
          "base_uri": "https://localhost:8080/"
        },
        "id": "Tzy4EZQNde18",
        "outputId": "62c48684-a1bc-4618-a91c-29a5b1c4cfb7"
      },
      "execution_count": null,
      "outputs": [
        {
          "output_type": "stream",
          "name": "stdout",
          "text": [
            "Saldo insuficiente!!!\n",
            "Saldo em conta.......: 200\n"
          ]
        }
      ]
    }
  ]
}