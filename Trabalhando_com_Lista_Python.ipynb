{
  "nbformat": 4,
  "nbformat_minor": 0,
  "metadata": {
    "colab": {
      "provenance": [],
      "include_colab_link": true
    },
    "kernelspec": {
      "name": "python3",
      "display_name": "Python 3"
    },
    "language_info": {
      "name": "python"
    }
  },
  "cells": [
    {
      "cell_type": "markdown",
      "metadata": {
        "id": "view-in-github",
        "colab_type": "text"
      },
      "source": [
        "<a href=\"https://colab.research.google.com/github/lucygoncalves/lucyborboletaazul/blob/main/Trabalhando_com_Lista_Python.ipynb\" target=\"_parent\"><img src=\"https://colab.research.google.com/assets/colab-badge.svg\" alt=\"Open In Colab\"/></a>"
      ]
    },
    {
      "cell_type": "markdown",
      "source": [
        "# Trabalhando com Lista em Python\n",
        "\n",
        "Bem-vindo ao notebook de exemplos práticos, onde trabalhamos com o recurso de listas em **Python!**. As listas são uma das estruturas de dados mais versáteis e amplamente utilizadas em **Python**. Elas permitem armazenar uma coleção ordenada de elementos, que podem ser de diferentes tipos, como números, strings e até mesmo outras listas. Neste notebook, exploraremos diversas operações que podemos realizar com listas, desde a criação e manipulação básica até técnicas avançadas, utilizando os principais métodos disponíveis para este tipo de variável.\n",
        "\n",
        "Também é possível ir para um tutorial on-line do Python, acesse pelo link [List no Python](https://docs.python.org/3/tutorial/datastructures.html)\n"
      ],
      "metadata": {
        "id": "F7Vog3vTVfGX"
      }
    },
    {
      "cell_type": "markdown",
      "source": [
        "## Criando uma Lista e Acessando seus Elementos"
      ],
      "metadata": {
        "id": "ECpWwMpjVnLm"
      }
    },
    {
      "cell_type": "code",
      "source": [
        "# Criando uma lista\n",
        "lista = [1, 2, 3, 4, 5]\n",
        "\n",
        "# Acessando elementos da lista\n",
        "primeiro_elemento = lista[0]\n",
        "ultimo_elemento = lista[-1]\n",
        "\n",
        "print(\"Lista completa:\", lista)\n",
        "print(\"Primeiro elemento:\", primeiro_elemento)\n",
        "print(\"Último elemento:\", ultimo_elemento)"
      ],
      "metadata": {
        "id": "GnJnmgjlVpJm"
      },
      "execution_count": null,
      "outputs": []
    },
    {
      "cell_type": "markdown",
      "source": [
        "## Adicionando e Removendo Elementos"
      ],
      "metadata": {
        "id": "QHDeFo2-VphX"
      }
    },
    {
      "cell_type": "code",
      "source": [
        "# Criando uma lista vazia\n",
        "lista = []\n",
        "\n",
        "# Adicionando elementos à lista\n",
        "lista.append(1)\n",
        "lista.append(2)\n",
        "lista.append(3)\n",
        "\n",
        "print(\"Lista após adicionar elementos:\", lista)"
      ],
      "metadata": {
        "colab": {
          "base_uri": "https://localhost:8080/"
        },
        "id": "Xxr3fi7ySKd6",
        "outputId": "33e9ab70-5b16-453a-f1c9-52d5b91ec983"
      },
      "execution_count": null,
      "outputs": [
        {
          "output_type": "stream",
          "name": "stdout",
          "text": [
            "Lista após adicionar elementos: [1, 2, 3]\n"
          ]
        }
      ]
    },
    {
      "cell_type": "code",
      "source": [
        "# Criando uma lista vazia\n",
        "lista = []\n",
        "\n",
        "# Adicionando elementos à lista\n",
        "lista.append(1)\n",
        "lista.append(2)\n",
        "lista.append(3)\n",
        "\n",
        "print(\"Lista após adicionar elementos:\", lista)\n",
        "\n",
        "# Removendo elementos da lista\n",
        "elemento_removido = lista.pop()\n",
        "print(\"Elemento removido:\", elemento_removido)\n",
        "print(\"Lista após remover elemento:\", lista)"
      ],
      "metadata": {
        "id": "rw_Q9tOCVrIO",
        "colab": {
          "base_uri": "https://localhost:8080/"
        },
        "outputId": "72f3164d-eb92-4456-a6c9-b30efb0d72b6"
      },
      "execution_count": null,
      "outputs": [
        {
          "output_type": "stream",
          "name": "stdout",
          "text": [
            "Lista após adicionar elementos: [1, 2, 3]\n",
            "Elemento removido: 3\n",
            "Lista após remover elemento: [1, 2]\n"
          ]
        }
      ]
    },
    {
      "cell_type": "markdown",
      "source": [
        "## Ordenando uma lista"
      ],
      "metadata": {
        "id": "wCOOUbmBWiD2"
      }
    },
    {
      "cell_type": "code",
      "source": [
        "# Criando uma lista desordenada\n",
        "lista = [5, 2, 4, 1, 3]\n",
        "print(\"Lista sem ordenacao:\", lista)\n",
        "# Ordenando a lista\n",
        "lista.sort()\n",
        "print(\"Lista ordenada crescente:\", lista)\n",
        "lista.sort(reverse=True)\n",
        "print(\"Lista ordenada decrescente:\", lista)"
      ],
      "metadata": {
        "id": "5SBoYAZEVuF-",
        "colab": {
          "base_uri": "https://localhost:8080/"
        },
        "outputId": "1dc10b03-fc38-4265-e8d0-cb832e037c8b"
      },
      "execution_count": null,
      "outputs": [
        {
          "output_type": "stream",
          "name": "stdout",
          "text": [
            "Lista sem ordenacao: [5, 2, 4, 1, 3]\n",
            "Lista ordenada crescente: [1, 2, 3, 4, 5]\n",
            "Lista ordenada decrescente: [1, 2, 3, 4, 5]\n"
          ]
        }
      ]
    },
    {
      "cell_type": "markdown",
      "source": [
        "## Iterando sobre uma Lista"
      ],
      "metadata": {
        "id": "Mjenktx7VviG"
      }
    },
    {
      "cell_type": "code",
      "source": [
        "# Iterando sobre uma lista e imprimindo cada elemento\n",
        "lista = ['a', 'b', 'c', 'd', 'e']\n",
        "for elemento in lista:\n",
        "    print(elemento)"
      ],
      "metadata": {
        "id": "mXd_BS9aWyiW"
      },
      "execution_count": null,
      "outputs": []
    },
    {
      "cell_type": "code",
      "source": [
        "# Iterando sobre uma lista e imprimindo cada elemento\n",
        "lista = ['a', 'b', 'c', 'd', 'e']\n",
        "for elemento in lista:\n",
        "    if elemento == 'a':\n",
        "      print('Encontrei a letra...')"
      ],
      "metadata": {
        "id": "_rT-0cyJgekv"
      },
      "execution_count": null,
      "outputs": []
    },
    {
      "cell_type": "markdown",
      "source": [
        "## Verificando a Existência de um Elemento"
      ],
      "metadata": {
        "id": "J5vdWz19W0gu"
      }
    },
    {
      "cell_type": "code",
      "source": [
        "# Verificando se um elemento está presente na lista\n",
        "lista = ['a', 'b', 'a', 'd', 'e']\n",
        "elemento = 'a'\n",
        "\n",
        "if elemento in lista:\n",
        "    print(\"O elemento\", elemento, \"está na lista.\")\n",
        "else:\n",
        "    print(\"O elemento\", elemento, \"não está na lista.\")"
      ],
      "metadata": {
        "id": "QabJWj6DW3it",
        "colab": {
          "base_uri": "https://localhost:8080/"
        },
        "outputId": "85023780-90ff-43fd-a480-410406578aee"
      },
      "execution_count": null,
      "outputs": [
        {
          "output_type": "stream",
          "name": "stdout",
          "text": [
            "O elemento a está na lista.\n"
          ]
        }
      ]
    },
    {
      "cell_type": "markdown",
      "source": [
        "## Retorna o número de elementos de uma lista"
      ],
      "metadata": {
        "id": "91LQpCXPaY4h"
      }
    },
    {
      "cell_type": "code",
      "source": [
        "fruits = ['orange', 'apple', 'pear', 'orange', 'kiwi', 'apple', 'banana']\n",
        "fruits.count('orange')"
      ],
      "metadata": {
        "id": "-fa6qVlPaEuX",
        "colab": {
          "base_uri": "https://localhost:8080/"
        },
        "outputId": "0f767326-da9c-4a2a-f107-2aea7a7309bb"
      },
      "execution_count": null,
      "outputs": [
        {
          "output_type": "execute_result",
          "data": {
            "text/plain": [
              "2"
            ]
          },
          "metadata": {},
          "execution_count": 8
        }
      ]
    },
    {
      "cell_type": "code",
      "source": [
        "fruits = ['orange', 'apple', 'pear', 'orange', 'kiwi', 'apple', 'banana']\n",
        "cf=0\n",
        "for i in fruits:\n",
        "  if i=='orange':\n",
        "    cf+=1\n",
        "print(cf)"
      ],
      "metadata": {
        "colab": {
          "base_uri": "https://localhost:8080/"
        },
        "id": "gWHa6bPfViHS",
        "outputId": "a7a3c457-2903-44e8-8548-8c9bc7786055"
      },
      "execution_count": null,
      "outputs": [
        {
          "output_type": "stream",
          "name": "stdout",
          "text": [
            "2\n"
          ]
        }
      ]
    },
    {
      "cell_type": "code",
      "source": [
        "frutas = ['orange', 'apple', 'pear', 'orange', 'kiwi', 'apple', 'banana']\n",
        "c=0\n",
        "for i in frutas:\n",
        "  if i[-1]=='e':\n",
        "    c+=1\n",
        "\n",
        "print('O total de palavras com inicio em -e- ',c)"
      ],
      "metadata": {
        "colab": {
          "base_uri": "https://localhost:8080/"
        },
        "id": "lgpR-g6Q8hjc",
        "outputId": "14cb10ea-c229-4139-8142-1137328296c8"
      },
      "execution_count": null,
      "outputs": [
        {
          "output_type": "stream",
          "name": "stdout",
          "text": [
            "O total de palavras com inicio em -e-  4\n"
          ]
        }
      ]
    },
    {
      "cell_type": "code",
      "source": [
        "lista = [5, 2, 4, 2, 2]\n",
        "lista.count(2)"
      ],
      "metadata": {
        "id": "Uc6iATuEa7Mf"
      },
      "execution_count": null,
      "outputs": []
    },
    {
      "cell_type": "markdown",
      "source": [
        "## Remove todos os elementos de uma lista"
      ],
      "metadata": {
        "id": "n5DFSKf3bZot"
      }
    },
    {
      "cell_type": "code",
      "source": [
        "lista = [5, 2, 4, 2, 2]\n",
        "print(lista)\n",
        "lista.clear()\n",
        "print(lista)"
      ],
      "metadata": {
        "id": "nQxWPqVhbsH1"
      },
      "execution_count": null,
      "outputs": []
    },
    {
      "cell_type": "code",
      "source": [
        "listap=[]\n",
        "listai=[]\n",
        "\n",
        "for i in range(210,512,2):\n",
        "  listap.append(i)\n",
        "  listai.append(i-1)\n",
        "\n",
        "print('Lista dos valores pares:')\n",
        "print(listap)\n",
        "print('Lista dos valores impares:')\n",
        "print(listai)"
      ],
      "metadata": {
        "id": "AylKm3ckrCTu",
        "colab": {
          "base_uri": "https://localhost:8080/"
        },
        "outputId": "2b789447-2fb4-4821-a2e4-748b2c437651"
      },
      "execution_count": null,
      "outputs": [
        {
          "output_type": "stream",
          "name": "stdout",
          "text": [
            "Lista dos valores pares:\n",
            "[210, 212, 214, 216, 218, 220, 222, 224, 226, 228, 230, 232, 234, 236, 238, 240, 242, 244, 246, 248, 250, 252, 254, 256, 258, 260, 262, 264, 266, 268, 270, 272, 274, 276, 278, 280, 282, 284, 286, 288, 290, 292, 294, 296, 298, 300, 302, 304, 306, 308, 310, 312, 314, 316, 318, 320, 322, 324, 326, 328, 330, 332, 334, 336, 338, 340, 342, 344, 346, 348, 350, 352, 354, 356, 358, 360, 362, 364, 366, 368, 370, 372, 374, 376, 378, 380, 382, 384, 386, 388, 390, 392, 394, 396, 398, 400, 402, 404, 406, 408, 410, 412, 414, 416, 418, 420, 422, 424, 426, 428, 430, 432, 434, 436, 438, 440, 442, 444, 446, 448, 450, 452, 454, 456, 458, 460, 462, 464, 466, 468, 470, 472, 474, 476, 478, 480, 482, 484, 486, 488, 490, 492, 494, 496, 498, 500, 502, 504, 506, 508, 510]\n",
            "Lista dos valores impares:\n",
            "[209, 211, 213, 215, 217, 219, 221, 223, 225, 227, 229, 231, 233, 235, 237, 239, 241, 243, 245, 247, 249, 251, 253, 255, 257, 259, 261, 263, 265, 267, 269, 271, 273, 275, 277, 279, 281, 283, 285, 287, 289, 291, 293, 295, 297, 299, 301, 303, 305, 307, 309, 311, 313, 315, 317, 319, 321, 323, 325, 327, 329, 331, 333, 335, 337, 339, 341, 343, 345, 347, 349, 351, 353, 355, 357, 359, 361, 363, 365, 367, 369, 371, 373, 375, 377, 379, 381, 383, 385, 387, 389, 391, 393, 395, 397, 399, 401, 403, 405, 407, 409, 411, 413, 415, 417, 419, 421, 423, 425, 427, 429, 431, 433, 435, 437, 439, 441, 443, 445, 447, 449, 451, 453, 455, 457, 459, 461, 463, 465, 467, 469, 471, 473, 475, 477, 479, 481, 483, 485, 487, 489, 491, 493, 495, 497, 499, 501, 503, 505, 507, 509]\n"
          ]
        }
      ]
    },
    {
      "cell_type": "code",
      "source": [
        "listap=[]\n",
        "listai=[]\n",
        "\n",
        "for i in range(210,512,2):\n",
        "  listap.append(i)\n",
        "  listai.append(i-1)\n",
        "\n",
        "print('Lista dos valores pares:')\n",
        "print(listap)\n",
        "print('A número de elementos..: ',len(listap))\n",
        "print('A soma dos elementos...: ',sum(listap))\n",
        "print('A média dos elementos..: ',sum(listap)/len(listap))\n",
        "print('O maior elementos......: ',max(listap))\n",
        "print('O menor elementos......: ',min(listap))\n",
        "\n",
        "print('Lista dos valores impares:')\n",
        "print(listai)\n",
        "print('A número de elementos..: ',len(listai))\n",
        "print('A soma dos elementos...: ',sum(listai))\n",
        "print('A média dos elementos..: ',sum(listai)/len(listai))\n",
        "print('O maior elementos......: ',max(listai))\n",
        "print('O menor elementos......: ',min(listai))"
      ],
      "metadata": {
        "id": "EJBMaa96iWRW"
      },
      "execution_count": null,
      "outputs": []
    },
    {
      "cell_type": "code",
      "source": [],
      "metadata": {
        "id": "mJo4W1HOl2zg"
      },
      "execution_count": null,
      "outputs": []
    },
    {
      "cell_type": "markdown",
      "source": [
        "## Questões desafios"
      ],
      "metadata": {
        "id": "Q8BEzPJGOeHE"
      }
    },
    {
      "cell_type": "markdown",
      "source": [
        "### Questão 01\n",
        "\n",
        "Um grande supermercado deseja implementar uma função no seu sistema de vendas que identifique e destaque os produtos que estão vendendo acima de uma certa quantidade mínima. Para isso, os programadores do supermercado têm uma lista com a quantidade de vendas diárias de cada produto. Eles precisam identificar quais produtos venderam acima de um limite estabelecido, e qual é o produto que teve o menor número de vendas entre os que excederam esse limite.\n",
        "\n",
        "\n",
        "Você foi contratado para ajudar a implementar essa função.\n",
        "\n",
        "Escreva um programa em Python que:\n",
        "\n",
        "* Receba uma lista com as quantidades de vendas diárias de diferentes produtos (Cada elemento da lista representa a quantidade de vendas de um determinado produto).\n",
        "\n",
        "* Filtre os produtos que tiveram vendas acima de um certo limite.\n",
        "\n",
        "* Identifique e retorne o produto que teve o menor número de vendas entre os que excederam esse limite.\n",
        "\n",
        "```\n",
        "vendas = [120, 85, 300, 45, 210, 95]\n",
        "limite = 100\n",
        "\n",
        "# Sua tarefa é encontrar o produto com o menor número de vendas que está acima do limite.\n",
        "\n",
        "```\n",
        "\n",
        "**Saída Esperada**:\n",
        "\n",
        "* Neste caso, o programa deve retornar 120, pois é o menor valor da lista entre os produtos que tiveram vendas acima de 100.\n",
        "\n",
        "**Requisitos**:\n",
        "* Utilize estruturas como loops, condicionais e listas.\n",
        "* Deve ser considerado o caso de não haver nenhum produto que ultrapasse o limite (o programa deve indicar essa situação).\n",
        "\n",
        "**Resposta Esperada**:\n",
        "\n",
        "* O programa deve filtrar a lista e identificar o produto com menor venda, retornando-o. Caso nenhum produto atenda ao critério, deve exibir uma mensagem apropriada."
      ],
      "metadata": {
        "id": "gmIuXLV6OjFb"
      }
    },
    {
      "cell_type": "code",
      "source": [
        "# Seu código aqui."
      ],
      "metadata": {
        "id": "4pClA18wQcfz",
        "colab": {
          "base_uri": "https://localhost:8080/"
        },
        "outputId": "2c7228e4-75f1-48fc-da6c-ec7d1c676999"
      },
      "execution_count": null,
      "outputs": [
        {
          "output_type": "stream",
          "name": "stdout",
          "text": [
            "120\n"
          ]
        }
      ]
    },
    {
      "cell_type": "markdown",
      "source": [
        "### Questão 02\n",
        "\n",
        "Uma empresa de tecnologia está analisando a performance dos desenvolvedores em um projeto, com base no número de linhas de código (LOC) que eles escreveram em um dia. A empresa deseja encontrar quais desenvolvedores escreveram linhas de código acima da média do time e, em seguida, identificar quem escreveu o maior número de linhas entre aqueles que estão acima da média.\n",
        "\n",
        "Você foi chamado para ajudar a desenvolver essa funcionalidade.\n",
        "\n",
        "Escreva um programa em Python que:\n",
        "\n",
        "* Receba uma lista com o número de linhas de código que cada desenvolvedor escreveu em um determinado dia.\n",
        "* Calcule a média de linhas de código escritas por todos os desenvolvedores.\n",
        "* Filtre os desenvolvedores que escreveram acima da média.\n",
        "\n",
        "Identifique e retorne o desenvolvedor que escreveu o maior número de linhas de código entre os que estão acima da média.\n",
        "\n",
        "\n",
        "```\n",
        "loc = [150, 200, 250, 180, 220, 175]\n",
        "# A média de linhas de código escritas é de 195.83.\n",
        "# Sua tarefa é encontrar o desenvolvedor com o maior número de linhas de código acima da média.\n",
        "\n",
        "```\n",
        "**Saída Esperada**:\n",
        "* Neste caso, o programa deve retornar 250, pois é o maior número de linhas de código acima da média calculada.\n",
        "\n",
        "**Requisitos**:\n",
        "\n",
        "* Utilize estruturas como loops, condicionais e listas.\n",
        "* Deve ser considerado o caso de todos os desenvolvedores estarem abaixo da média (o programa deve indicar essa situação).\n",
        "\n",
        "**Resposta Esperada**:\n",
        "\n",
        "* O programa deve calcular a média das linhas de código, filtrar os valores acima dessa média, e identificar o valor mais alto entre os que foram filtrados.\n",
        "\n",
        "* Caso todos os valores sejam menores ou iguais à média, o programa deve exibir uma mensagem indicando que nenhum desenvolvedor superou a média.\n"
      ],
      "metadata": {
        "id": "swNdgiB7OyrI"
      }
    },
    {
      "cell_type": "code",
      "source": [
        "# Seu código aqui."
      ],
      "metadata": {
        "id": "VEsbHYeWTEVq"
      },
      "execution_count": null,
      "outputs": []
    }
  ]
}